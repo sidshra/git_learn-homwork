{
 "cells": [
  {
   "cell_type": "code",
   "execution_count": 1,
   "metadata": {},
   "outputs": [
    {
     "name": "stdout",
     "output_type": "stream",
     "text": [
      "6\n"
     ]
    }
   ],
   "source": [
    "i = 6\n",
    "print(i)\n",
    "\n"
   ]
  },
  {
   "cell_type": "code",
   "execution_count": 59,
   "metadata": {},
   "outputs": [
    {
     "name": "stdout",
     "output_type": "stream",
     "text": [
      "Hello World\n"
     ]
    }
   ],
   "source": [
    "j = \"Hello World\"\n",
    "print(j)"
   ]
  },
  {
   "cell_type": "code",
   "execution_count": 10,
   "metadata": {},
   "outputs": [
    {
     "data": {
      "text/plain": [
       "'test'"
      ]
     },
     "execution_count": 10,
     "metadata": {},
     "output_type": "execute_result"
    }
   ],
   "source": [
    "a = input(\"what is your name\")\n",
    "a"
   ]
  },
  {
   "cell_type": "code",
   "execution_count": 11,
   "metadata": {},
   "outputs": [
    {
     "data": {
      "text/plain": [
       "True"
      ]
     },
     "execution_count": 11,
     "metadata": {},
     "output_type": "execute_result"
    }
   ],
   "source": [
    "my_boolean = True\n",
    "my_boolean"
   ]
  },
  {
   "cell_type": "code",
   "execution_count": 14,
   "metadata": {},
   "outputs": [
    {
     "data": {
      "text/plain": [
       "float"
      ]
     },
     "execution_count": 14,
     "metadata": {},
     "output_type": "execute_result"
    }
   ],
   "source": [
    "type(0.32)"
   ]
  },
  {
   "cell_type": "code",
   "execution_count": 18,
   "metadata": {},
   "outputs": [
    {
     "data": {
      "text/plain": [
       "'STRING EXAMPLE'"
      ]
     },
     "execution_count": 18,
     "metadata": {},
     "output_type": "execute_result"
    }
   ],
   "source": [
    "s = \"String example\"\n",
    "s = s.upper()\n",
    "s"
   ]
  },
  {
   "cell_type": "code",
   "execution_count": 19,
   "metadata": {},
   "outputs": [
    {
     "data": {
      "text/plain": [
       "'string example'"
      ]
     },
     "execution_count": 19,
     "metadata": {},
     "output_type": "execute_result"
    }
   ],
   "source": [
    "s = \"String example\"\n",
    "s = s.lower()\n",
    "s"
   ]
  },
  {
   "cell_type": "code",
   "execution_count": 28,
   "metadata": {},
   "outputs": [
    {
     "data": {
      "text/plain": [
       "7"
      ]
     },
     "execution_count": 28,
     "metadata": {},
     "output_type": "execute_result"
    }
   ],
   "source": [
    "l = [\"test\",1,[2.3,7],False]\n",
    "l[3]\n",
    "l[-2][-1]\n",
    "#Comment line"
   ]
  },
  {
   "cell_type": "code",
   "execution_count": 29,
   "metadata": {},
   "outputs": [
    {
     "data": {
      "text/plain": [
       "4"
      ]
     },
     "execution_count": 29,
     "metadata": {},
     "output_type": "execute_result"
    }
   ],
   "source": [
    "len(l)"
   ]
  },
  {
   "cell_type": "code",
   "execution_count": 31,
   "metadata": {},
   "outputs": [
    {
     "data": {
      "text/plain": [
       "2"
      ]
     },
     "execution_count": 31,
     "metadata": {},
     "output_type": "execute_result"
    }
   ],
   "source": [
    "len(l[-2])"
   ]
  },
  {
   "cell_type": "code",
   "execution_count": 39,
   "metadata": {},
   "outputs": [
    {
     "data": {
      "text/plain": [
       "'is is a st'"
      ]
     },
     "execution_count": 39,
     "metadata": {},
     "output_type": "execute_result"
    }
   ],
   "source": [
    "t = \"This is a string\"\n",
    "t[-1]\n",
    "t[2:12]"
   ]
  },
  {
   "cell_type": "code",
   "execution_count": 58,
   "metadata": {},
   "outputs": [
    {
     "data": {
      "text/plain": [
       "'s is a string'"
      ]
     },
     "execution_count": 58,
     "metadata": {},
     "output_type": "execute_result"
    }
   ],
   "source": [
    "t1 = len(t)\n",
    "t[3:len(t)]\n"
   ]
  },
  {
   "cell_type": "code",
   "execution_count": 66,
   "metadata": {},
   "outputs": [
    {
     "name": "stdout",
     "output_type": "stream",
     "text": [
      "[True]\n",
      "[True, 'this is string']\n",
      "[10, True, 'this is string']\n",
      "[True, 'this is string']\n"
     ]
    }
   ],
   "source": [
    "new_list = [True]\n",
    "print(new_list)\n",
    "new_list.append(\"this is string\")\n",
    "print(new_list)\n",
    "new_list.insert(0,10)\n",
    "print(new_list)\n",
    "new_list.pop(0)\n",
    "print(new_list)"
   ]
  },
  {
   "cell_type": "code",
   "execution_count": 71,
   "metadata": {},
   "outputs": [
    {
     "data": {
      "text/plain": [
       "[5, 5, 4, 2, 1]"
      ]
     },
     "execution_count": 71,
     "metadata": {},
     "output_type": "execute_result"
    }
   ],
   "source": [
    "second_list = [2,5,1,5,4]\n",
    "second_list.sort(reverse=True)\n",
    "second_list"
   ]
  },
  {
   "cell_type": "code",
   "execution_count": 81,
   "metadata": {},
   "outputs": [
    {
     "name": "stdout",
     "output_type": "stream",
     "text": [
      "[2, 5, 1, 5, 4, 8, 0]\n",
      "[8, 5, 5, 4, 2, 1, 0]\n"
     ]
    }
   ],
   "source": [
    "second_list = [2,5,1,5,4,int(\"8\"),int(False)]\n",
    "sorted_list = sorted(second_list, reverse=True)\n",
    "print(second_list)\n",
    "print(sorted_list)"
   ]
  },
  {
   "cell_type": "code",
   "execution_count": 85,
   "metadata": {},
   "outputs": [
    {
     "name": "stdout",
     "output_type": "stream",
     "text": [
      "5\n",
      "<class 'str'>\n"
     ]
    }
   ],
   "source": [
    "print(int(\"5\"))\n",
    "print(type(\"5\"))"
   ]
  },
  {
   "cell_type": "code",
   "execution_count": 78,
   "metadata": {},
   "outputs": [
    {
     "data": {
      "text/plain": [
       "['Zd', 'ce', 'zd']"
      ]
     },
     "execution_count": 78,
     "metadata": {},
     "output_type": "execute_result"
    }
   ],
   "source": [
    "word_list= [ \"zd\",\"Zd\",\"ce\"]\n",
    "sorted(word_list)"
   ]
  },
  {
   "cell_type": "code",
   "execution_count": 96,
   "metadata": {},
   "outputs": [
    {
     "name": "stdout",
     "output_type": "stream",
     "text": [
      " In five years you'll be 39\n"
     ]
    }
   ],
   "source": [
    "s_input = input(\"Enter your age\")\n",
    "s_input = int(s_input) + 5\n",
    "print(f\" In five years you'll be {s_input}\")"
   ]
  },
  {
   "cell_type": "code",
   "execution_count": 101,
   "metadata": {},
   "outputs": [
    {
     "name": "stdout",
     "output_type": "stream",
     "text": [
      "51\n",
      "61\n"
     ]
    }
   ],
   "source": [
    "HOURLY_SALARY = 50\n",
    "HOURLY_SALARY = 51\n",
    "print(HOURLY_SALARY)\n",
    "\n",
    "from typing import Final #Import Final class from typing package\n",
    "NEW_HOURLY_SALARY:Final[int] = 60\n",
    "\n",
    "NEW_HOURLY_SALARY = 61 #The red underline shows the error\n",
    "\n",
    "\n",
    "print(NEW_HOURLY_SALARY)"
   ]
  },
  {
   "cell_type": "code",
   "execution_count": 103,
   "metadata": {},
   "outputs": [
    {
     "ename": "TypeError",
     "evalue": "'int' object does not support item assignment",
     "output_type": "error",
     "traceback": [
      "\u001b[1;31m---------------------------------------------------------------------------\u001b[0m",
      "\u001b[1;31mTypeError\u001b[0m                                 Traceback (most recent call last)",
      "\u001b[1;32mf:\\Learn\\git_learn-homwork\\MyJupfile.ipynb Cell 20\u001b[0m line \u001b[0;36m2\n\u001b[0;32m      <a href='vscode-notebook-cell:/f%3A/Learn/git_learn-homwork/MyJupfile.ipynb#X26sZmlsZQ%3D%3D?line=0'>1</a>\u001b[0m my_tuple \u001b[39m=\u001b[39m (\u001b[39m3\u001b[39m)\n\u001b[1;32m----> <a href='vscode-notebook-cell:/f%3A/Learn/git_learn-homwork/MyJupfile.ipynb#X26sZmlsZQ%3D%3D?line=1'>2</a>\u001b[0m my_tuple[\u001b[39m0\u001b[39;49m]\u001b[39m=\u001b[39m\u001b[39m2\u001b[39m\n",
      "\u001b[1;31mTypeError\u001b[0m: 'int' object does not support item assignment"
     ]
    }
   ],
   "source": [
    "my_tuple = (3)\n",
    "my_tuple[0]=2"
   ]
  },
  {
   "cell_type": "code",
   "execution_count": 110,
   "metadata": {},
   "outputs": [
    {
     "name": "stdout",
     "output_type": "stream",
     "text": [
      "{'apples', 'melons', 'cherry', 'kiwi', 'mango', 'banana'}\n",
      "{'apples'}\n",
      "{'banana', 'cherry', 'mango'}\n",
      "{'melons', 'kiwi'}\n"
     ]
    },
    {
     "data": {
      "text/plain": [
       "['apples', 'banana', 'cherry', 'kiwi', 'mango', 'melons']"
      ]
     },
     "execution_count": 110,
     "metadata": {},
     "output_type": "execute_result"
    }
   ],
   "source": [
    "my_set = {\"apples\",\"banana\",\"cherry\",\"mango\"  }\n",
    "another_set = {\"apples\",\"kiwi\",\"melons\"}\n",
    "union = my_set.union(another_set)\n",
    "print(union)\n",
    "intersection = my_set.intersection(another_set)\n",
    "print(intersection)\n",
    "only_my_set = my_set.difference(another_set)\n",
    "print(only_my_set)\n",
    "only_another_set = another_set.difference(my_set)\n",
    "print(only_another_set)\n",
    "\n",
    "sorted(list(union))"
   ]
  },
  {
   "cell_type": "code",
   "execution_count": 116,
   "metadata": {},
   "outputs": [
    {
     "name": "stdout",
     "output_type": "stream",
     "text": [
      "Piya\n",
      "34\n",
      "35\n"
     ]
    }
   ],
   "source": [
    "my_info = {\"Name\" : \"Piya\", \"Age\" : 34  } \n",
    "#dictionary data type. It has pair of key & value\n",
    "#key & value will be an item. \n",
    "name = my_info[\"Name\"]\n",
    "\n",
    "print(name)\n",
    "age = my_info[\"Age\"]\n",
    "print(age)\n",
    "my_info[\"Age\"] = my_info[\"Age\"] + 1\n",
    "print(my_info[\"Age\"])"
   ]
  },
  {
   "cell_type": "code",
   "execution_count": null,
   "metadata": {},
   "outputs": [],
   "source": []
  },
  {
   "cell_type": "code",
   "execution_count": 124,
   "metadata": {},
   "outputs": [
    {
     "name": "stdout",
     "output_type": "stream",
     "text": [
      "{'pet': 'cat'}\n",
      "{'pet': 'cat', 'Vet': 'Mr. K'}\n",
      "{'pet': 'cat', 'Vet': 'Mr. K', 'age': 2, 'owners': ['Ann', 'Bob']}\n",
      "{'pet': 'cat', 'Vet': 'Mr. K', 'age': 2, 'owners': ['Ann', 'Bob'], 'nested_dic': {'Name': 'Piya', 'Age': 35}}\n",
      "{'pet': 'cat', 'Vet': 'Mr. K', 'age': 2, 'owners': ['Ann', 'Bob'], 'nested_dic': {'Name': 'Piya', 'Age': 35}, 'my_dict1': {...}}\n",
      "{'pet': 'cat', 'Vet': 'Mr. K', 'age': 2, 'owners': ['Ann', 'Bob'], 'nested_dic': {'Name': 'Piya', 'Age': 35}, 'my_dict1': {...}}\n"
     ]
    }
   ],
   "source": [
    "my_dict = dict()\n",
    "my_dict[\"pet\"] = \"cat\"\n",
    "print(my_dict)\n",
    "my_dict[\"Vet\"] = \"Mr. K\"\n",
    "print(my_dict)\n",
    "my_dict[\"age\"] = 2\n",
    "my_dict[\"owners\"] = [\"Ann\",\"Bob\"]\n",
    "print(my_dict)\n",
    "my_dict[\"nested_dic\"] = my_info\n",
    "print(my_dict)\n",
    "my_dict[\"my_dict1\"] = my_dict\n",
    "print(my_dict)\n",
    "print(my_dict[\"my_dict1\"])"
   ]
  },
  {
   "cell_type": "code",
   "execution_count": 127,
   "metadata": {},
   "outputs": [
    {
     "name": "stdout",
     "output_type": "stream",
     "text": [
      "{'key1': 'value1'}\n",
      "{'key1': 'value1', 'key2': {...}}\n"
     ]
    }
   ],
   "source": [
    "my_test = dict()\n",
    "my_test[\"key1\"] = \"value1\"\n",
    "print(my_test)\n",
    "my_test[\"key2\"] = my_test\n",
    "print(my_test)"
   ]
  },
  {
   "cell_type": "code",
   "execution_count": 130,
   "metadata": {},
   "outputs": [
    {
     "name": "stdout",
     "output_type": "stream",
     "text": [
      "My test file\n",
      "My second line\n"
     ]
    }
   ],
   "source": [
    "f = open(\"Test.txt\",\"r\")\n",
    "print(f.read()) #gives whole content file"
   ]
  },
  {
   "cell_type": "code",
   "execution_count": 132,
   "metadata": {},
   "outputs": [
    {
     "name": "stdout",
     "output_type": "stream",
     "text": [
      "My test file\n",
      "\n",
      "My second line\n"
     ]
    }
   ],
   "source": [
    "f = open(\"Test.txt\",\"r\")\n",
    "print(f.readline()) #Reads line by line\n",
    "print(f.readline())"
   ]
  },
  {
   "cell_type": "code",
   "execution_count": 135,
   "metadata": {},
   "outputs": [
    {
     "name": "stdout",
     "output_type": "stream",
     "text": [
      "My test file\n",
      "\n",
      "My second line\n",
      "\n",
      "Third\n",
      "\n",
      "Fourth\n"
     ]
    }
   ],
   "source": [
    "f = open(\"Test.txt\",\"r\")\n",
    "for line in f:   \n",
    "    print(line)"
   ]
  },
  {
   "cell_type": "code",
   "execution_count": 136,
   "metadata": {},
   "outputs": [
    {
     "name": "stdout",
     "output_type": "stream",
     "text": [
      "My test file\n",
      "\n",
      "My second line\n",
      "\n",
      "Third\n",
      "\n",
      "Fourth\n"
     ]
    }
   ],
   "source": [
    "f = open(\"Test.txt\",\"r\")\n",
    "for x in f:   \n",
    "    print(x)"
   ]
  },
  {
   "cell_type": "code",
   "execution_count": 142,
   "metadata": {},
   "outputs": [
    {
     "name": "stdout",
     "output_type": "stream",
     "text": [
      "MY TEST FILE\n",
      "\n",
      "Every time\n",
      "MY SECOND LINE\n",
      "\n",
      "Every time\n",
      "THIRD\n",
      "\n",
      "Every time\n",
      "FOURTH\n",
      "Every time\n",
      "Finish\n"
     ]
    }
   ],
   "source": [
    "f = open(\"Test.txt\",\"r\")\n",
    "for x in f:   \n",
    "    print(x.upper()) #Prints line by line in upper case\n",
    "    print(\"Every time\")\n",
    "print(\"Finish\")"
   ]
  },
  {
   "cell_type": "code",
   "execution_count": 148,
   "metadata": {},
   "outputs": [
    {
     "name": "stdout",
     "output_type": "stream",
     "text": [
      "You like a different animal\n"
     ]
    }
   ],
   "source": [
    "fav_animal = input(\"What is your favourite animal?\")\n",
    "fav_animal = fav_animal.lower()\n",
    "if fav_animal == \"dog\":\n",
    "    print(\"You like dog\")\n",
    "elif fav_animal == \"cat\":\n",
    "    print(\"you like cat\")\n",
    "else:\n",
    "    print(\"You like a different animal\")\n"
   ]
  },
  {
   "cell_type": "code",
   "execution_count": 151,
   "metadata": {},
   "outputs": [
    {
     "name": "stdout",
     "output_type": "stream",
     "text": [
      "You like cats\n",
      "You do not like dogs\n"
     ]
    }
   ],
   "source": [
    "like_cat = input(\"Do you like cats (y/n)?\")\n",
    "like_dog = input(\"Do you like dogs (y/n)?\")\n",
    "if like_cat == \"y\":\n",
    "    print(\"You like cats\")\n",
    "else:\n",
    "    print(\"You do not like cats\")\n",
    "if like_dog == \"y\":\n",
    "    print(\"You like dogs\")\n",
    "else:\n",
    "    print(\"You do not like dogs\")        \n",
    "\n",
    "    \n",
    "             "
   ]
  },
  {
   "cell_type": "code",
   "execution_count": 149,
   "metadata": {},
   "outputs": [
    {
     "data": {
      "text/plain": [
       "True"
      ]
     },
     "execution_count": 149,
     "metadata": {},
     "output_type": "execute_result"
    }
   ],
   "source": [
    "4 > 3"
   ]
  },
  {
   "cell_type": "code",
   "execution_count": 3,
   "metadata": {},
   "outputs": [
    {
     "name": "stdout",
     "output_type": "stream",
     "text": [
      "human\n"
     ]
    }
   ],
   "source": [
    "fav_animal = \"\"\n",
    "while fav_animal != \"cat\" and fav_animal != \"dog\":\n",
    "    fav_animal = input(\"Are you a cat or a dog person?\")\n",
    "    if fav_animal == \"human\":\n",
    "        break\n",
    "print(fav_animal)\n"
   ]
  },
  {
   "cell_type": "code",
   "execution_count": 6,
   "metadata": {},
   "outputs": [
    {
     "name": "stdout",
     "output_type": "stream",
     "text": [
      "x = 2\n"
     ]
    }
   ],
   "source": [
    "x = 2\n",
    "match x:\n",
    "    case 1:\n",
    "        print(\"x = 1\")\n",
    "    case 2:\n",
    "        print(\"x = 2\")\n",
    "    case _:\n",
    "        print(\"I dont want to talk about X\")        "
   ]
  },
  {
   "cell_type": "code",
   "execution_count": 9,
   "metadata": {},
   "outputs": [
    {
     "name": "stdout",
     "output_type": "stream",
     "text": [
      "Color is green\n"
     ]
    }
   ],
   "source": [
    "from enum import Enum\n",
    "\n",
    "class Color(Enum):\n",
    "    RED = 1\n",
    "    BLUE = 2\n",
    "    GREEN = 3\n",
    "    ORANGE = 4\n",
    "    VIOLET = 5\n",
    "    YELLOW = 6\n",
    "    MAROON = 7\n",
    "\n",
    "my_color = Color.GREEN\n",
    "\n",
    "match my_color:\n",
    "    case Color.RED:\n",
    "        print(\"Color is red\")\n",
    "    case Color.BLUE:\n",
    "        print(\"Color is blue\")\n",
    "    case Color.GREEN:\n",
    "        print(\"Color is green\")\n",
    "    case _:\n",
    "        print(\"Not my color\")        \n",
    "    \n"
   ]
  },
  {
   "cell_type": "code",
   "execution_count": null,
   "metadata": {},
   "outputs": [],
   "source": []
  },
  {
   "cell_type": "code",
   "execution_count": 11,
   "metadata": {},
   "outputs": [
    {
     "name": "stdout",
     "output_type": "stream",
     "text": [
      "0\n",
      "1\n",
      "2\n",
      "3\n",
      "4\n"
     ]
    }
   ],
   "source": [
    "for i in range(5):\n",
    "    print(i)\n"
   ]
  },
  {
   "cell_type": "code",
   "execution_count": 16,
   "metadata": {},
   "outputs": [
    {
     "name": "stdout",
     "output_type": "stream",
     "text": [
      "PRIYA\n",
      "AMY\n",
      "SEAN\n",
      "NICK\n",
      "JACOB\n",
      "['PRIYA', 'AMY', 'SEAN', 'NICK', 'JACOB']\n"
     ]
    }
   ],
   "source": [
    "my_list = [\"Priya\",\"Amy\",\"Sean\",\"Nick\",\"Jacob\"]\n",
    "new_list = []\n",
    "for i in my_list:\n",
    "    new_name = i.upper()\n",
    "    new_list.append(new_name)\n",
    "    print(new_name)\n",
    "print(new_list)    "
   ]
  },
  {
   "cell_type": "code",
   "execution_count": 17,
   "metadata": {},
   "outputs": [
    {
     "name": "stdout",
     "output_type": "stream",
     "text": [
      "['PRIYA', 'AMY', 'SEAN', 'NICK', 'JACOB']\n"
     ]
    }
   ],
   "source": [
    "my_list = [\"Priya\",\"Amy\",\"Sean\",\"Nick\",\"Jacob\"]\n",
    "new_list = [i.upper() for i in my_list]\n",
    "print(new_list)"
   ]
  },
  {
   "cell_type": "code",
   "execution_count": 20,
   "metadata": {},
   "outputs": [
    {
     "name": "stdout",
     "output_type": "stream",
     "text": [
      "[6.2, 11.2, 15.6, 19.0, 4.6]\n"
     ]
    }
   ],
   "source": [
    "my_numbers = [3.1, 5.6, 7.8,9.5,2.3]\n",
    "\n",
    "new_numbers = [2*i for i in my_numbers]\n",
    "print(new_numbers)"
   ]
  },
  {
   "cell_type": "code",
   "execution_count": 22,
   "metadata": {},
   "outputs": [
    {
     "name": "stdout",
     "output_type": "stream",
     "text": [
      "0. Priya\n",
      "1. Amy\n",
      "2. Sean\n",
      "3. Nick\n",
      "4. Jacob\n"
     ]
    }
   ],
   "source": [
    "my_list = [\"Priya\",\"Amy\",\"Sean\",\"Nick\",\"Jacob\"]\n",
    "for index,item in enumerate(my_list):\n",
    "    print(f\"{index}. {item}\")"
   ]
  },
  {
   "cell_type": "code",
   "execution_count": 24,
   "metadata": {},
   "outputs": [
    {
     "name": "stdout",
     "output_type": "stream",
     "text": [
      "Name. Piya\n",
      "Age. 34\n",
      "Place. Auckland\n"
     ]
    }
   ],
   "source": [
    "my_info = {\"Name\" : \"Piya\", \"Age\" : 34, \"Place\" : \"Auckland\"  } \n",
    "for key,value in my_info.items():\n",
    "    print(f\"{key}. {value}\")"
   ]
  },
  {
   "cell_type": "code",
   "execution_count": 27,
   "metadata": {},
   "outputs": [
    {
     "name": "stdout",
     "output_type": "stream",
     "text": [
      "['Item1', 'Item2', 'Item3', 'Item4']\n",
      "Item1\n",
      "Item2\n",
      "Item3\n",
      "['Item4']\n"
     ]
    }
   ],
   "source": [
    "my_queue = []\n",
    "my_queue.append(\"Item1\")\n",
    "my_queue.append(\"Item2\")\n",
    "my_queue.append(\"Item3\")\n",
    "my_queue.append(\"Item4\")\n",
    "print(my_queue)\n",
    "print(my_queue.pop(0))\n",
    "print(my_queue.pop(0))\n",
    "print(my_queue.pop(0))\n",
    "print(my_queue)\n"
   ]
  },
  {
   "cell_type": "code",
   "execution_count": 29,
   "metadata": {},
   "outputs": [
    {
     "name": "stdout",
     "output_type": "stream",
     "text": [
      "10\n",
      "152\n",
      "2468\n"
     ]
    }
   ],
   "source": [
    "def times_two(x):\n",
    "    return 2*x\n",
    "\n",
    "print(times_two(5))\n",
    "print(times_two(76))\n",
    "print(times_two(1234))"
   ]
  },
  {
   "cell_type": "code",
   "execution_count": 31,
   "metadata": {},
   "outputs": [
    {
     "name": "stdout",
     "output_type": "stream",
     "text": [
      "Value of x = 9 & value of y = 3\n"
     ]
    }
   ],
   "source": [
    "def side_effect(x,y): #Side effect\n",
    "    print(f\"Value of x = {x} & value of y = {y}\")\n",
    "   \n",
    "side_effect(9,3)    \n",
    "    "
   ]
  },
  {
   "cell_type": "code",
   "execution_count": 32,
   "metadata": {},
   "outputs": [
    {
     "name": "stdout",
     "output_type": "stream",
     "text": [
      " Nicely printing 3192\n",
      " Nicely printing 1190\n",
      " Nicely printing 56\n"
     ]
    },
    {
     "data": {
      "text/plain": [
       "56"
      ]
     },
     "execution_count": 32,
     "metadata": {},
     "output_type": "execute_result"
    }
   ],
   "source": [
    "def print_nicely(my_string):\n",
    "    print(f\" Nicely printing {my_string}\")\n",
    "\n",
    "def complex_processing(x):\n",
    "    output_value = x * x + x\n",
    "    print_nicely(output_value)\n",
    "    return output_value  \n",
    "\n",
    "complex_processing(56)\n",
    "complex_processing(34)\n",
    "complex_processing(7)"
   ]
  },
  {
   "cell_type": "code",
   "execution_count": 35,
   "metadata": {},
   "outputs": [
    {
     "name": "stdout",
     "output_type": "stream",
     "text": [
      "5\n"
     ]
    },
    {
     "data": {
      "text/plain": [
       "12"
      ]
     },
     "execution_count": 35,
     "metadata": {},
     "output_type": "execute_result"
    }
   ],
   "source": [
    "y = 5\n",
    "\n",
    "def times_two(x):\n",
    "    print(y)\n",
    "    return 2*x\n",
    "\n",
    "times_two(6)"
   ]
  },
  {
   "cell_type": "code",
   "execution_count": 37,
   "metadata": {},
   "outputs": [
    {
     "name": "stdout",
     "output_type": "stream",
     "text": [
      "y = 6\n",
      "y = 5\n"
     ]
    }
   ],
   "source": [
    "y = 5\n",
    "\n",
    "def times_two(x):\n",
    "    y = x  #local y\n",
    "    print(f\"y = {y}\")\n",
    "    return 2*x\n",
    "\n",
    "times_two(6)\n",
    "print(f\"y = {y}\")"
   ]
  },
  {
   "cell_type": "code",
   "execution_count": null,
   "metadata": {},
   "outputs": [],
   "source": []
  }
 ],
 "metadata": {
  "kernelspec": {
   "display_name": "Python 3",
   "language": "python",
   "name": "python3"
  },
  "language_info": {
   "codemirror_mode": {
    "name": "ipython",
    "version": 3
   },
   "file_extension": ".py",
   "mimetype": "text/x-python",
   "name": "python",
   "nbconvert_exporter": "python",
   "pygments_lexer": "ipython3",
   "version": "3.12.0"
  }
 },
 "nbformat": 4,
 "nbformat_minor": 2
}
